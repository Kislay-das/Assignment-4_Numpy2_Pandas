{
 "cells": [
  {
   "cell_type": "code",
   "execution_count": 1,
   "metadata": {},
   "outputs": [
    {
     "name": "stdout",
     "output_type": "stream",
     "text": [
      "Enter array of elements (window sequence)\n",
      "3 5 7 2 8 10 11 65 72 81 99 100 150\n",
      "Enter the window size 3\n",
      "Moving Average for above list with window size 3 is \n",
      "[5.0, 4.666666666666667, 5.666666666666667, 6.666666666666667, 9.666666666666666, 28.666666666666668, 49.333333333333336, 72.66666666666667, 84.0, 93.33333333333333, 116.33333333333333] \n"
     ]
    }
   ],
   "source": [
    "# Question 1: Given a sequence of n values x1, x2, ..., xn and a window size k>0, the k-th moving average of\n",
    "# the given sequence is defined:\n",
    "# The moving average sequence has n-k+1 elements.\n",
    "\n",
    "print(\"Enter array of elements (window sequence)\")\n",
    "arr=list(map(int,input().split()))\n",
    "k=int(input(\"Enter the window size \"))\n",
    "\n",
    "#Using list comprehension to generate the moving average\n",
    "result=[sum(arr[i:i+k])/k for i in range(0,len(arr)-k+1)] \n",
    "print(\"Moving Average for above list with window size %d is \\n%s \"%(k,result))\n"
   ]
  },
  {
   "cell_type": "markdown",
   "metadata": {},
   "source": [
    "# Task 2"
   ]
  },
  {
   "cell_type": "code",
   "execution_count": 3,
   "metadata": {},
   "outputs": [
    {
     "name": "stdout",
     "output_type": "stream",
     "text": [
      "   X  Y\n",
      "0  7  1\n",
      "1  2  2\n",
      "2  0  0\n",
      "3  3  1\n",
      "4  4  2\n",
      "5  2  3\n",
      "6  5  4\n",
      "7  0  0\n",
      "8  3  1\n",
      "9  4  2\n"
     ]
    }
   ],
   "source": [
    "# Question 1: How-to-count-distance-to-the-previous-zero\n",
    "# For each value, count the difference back to the previous zero (or the start of the Series,\n",
    "# whichever is closer)\n",
    "\n",
    "import pandas as pd\n",
    "\n",
    "def step_count(l):\n",
    "    i = 0\n",
    "    r = []\n",
    "    for element in l:\n",
    "        if element != 0:\n",
    "            i += 1\n",
    "        else:\n",
    "            i = 0\n",
    "        r.append(i)\n",
    "    return r   \n",
    "\n",
    "df = pd.DataFrame({'X': [7, 2, 0, 3, 4, 2, 5, 0, 3, 4]})\n",
    "x_list = df['X'].tolist()\n",
    "y_list = step_count(x_list)\n",
    "df['Y'] = y_list # Add the list as a new column to dataframe\n",
    "print(df)"
   ]
  },
  {
   "cell_type": "code",
   "execution_count": 4,
   "metadata": {},
   "outputs": [
    {
     "name": "stdout",
     "output_type": "stream",
     "text": [
      "2015-01-01    0.535623\n",
      "2015-01-02    0.722263\n",
      "2015-01-05    0.783628\n",
      "2015-01-06    0.588927\n",
      "2015-01-07    0.818319\n",
      "2015-01-08    0.871304\n",
      "2015-01-09    0.870140\n",
      "2015-01-12    0.547139\n",
      "2015-01-13    0.925283\n",
      "2015-01-14    0.379361\n",
      "2015-01-15    0.550578\n",
      "2015-01-16    0.320280\n",
      "2015-01-19    0.375606\n",
      "2015-01-20    0.423680\n",
      "2015-01-21    0.148644\n",
      "2015-01-22    0.976309\n",
      "2015-01-23    0.029666\n",
      "2015-01-26    0.775523\n",
      "2015-01-27    0.647509\n",
      "2015-01-28    0.429802\n",
      "2015-01-29    0.670850\n",
      "2015-01-30    0.075930\n",
      "2015-02-02    0.725025\n",
      "2015-02-03    0.816809\n",
      "2015-02-04    0.195491\n",
      "2015-02-05    0.473049\n",
      "2015-02-06    0.397612\n",
      "2015-02-09    0.111388\n",
      "2015-02-10    0.078294\n",
      "2015-02-11    0.595819\n",
      "                ...   \n",
      "2015-11-20    0.296410\n",
      "2015-11-23    0.709591\n",
      "2015-11-24    0.563384\n",
      "2015-11-25    0.541700\n",
      "2015-11-26    0.012270\n",
      "2015-11-27    0.566923\n",
      "2015-11-30    0.971191\n",
      "2015-12-01    0.126178\n",
      "2015-12-02    0.151416\n",
      "2015-12-03    0.694523\n",
      "2015-12-04    0.494638\n",
      "2015-12-07    0.170145\n",
      "2015-12-08    0.984341\n",
      "2015-12-09    0.610820\n",
      "2015-12-10    0.901097\n",
      "2015-12-11    0.072587\n",
      "2015-12-14    0.954385\n",
      "2015-12-15    0.860469\n",
      "2015-12-16    0.300961\n",
      "2015-12-17    0.082043\n",
      "2015-12-18    0.320974\n",
      "2015-12-21    0.371311\n",
      "2015-12-22    0.409675\n",
      "2015-12-23    0.876101\n",
      "2015-12-24    0.808231\n",
      "2015-12-25    0.807152\n",
      "2015-12-28    0.484654\n",
      "2015-12-29    0.101481\n",
      "2015-12-30    0.630212\n",
      "2015-12-31    0.680974\n",
      "Freq: B, Length: 261, dtype: float64\n"
     ]
    }
   ],
   "source": [
    "# Question 2: Create a DatetimeIndex that contains each business day of 2015 and use it to index a Series of\n",
    "# random numbers\n",
    "import numpy as np\n",
    "\n",
    "dti = pd.date_range(start='2015-01-01', end='2015-12-31', freq='B') \n",
    "s = pd.Series(np.random.rand(len(dti)), index=dti)\n",
    "print(s)"
   ]
  },
  {
   "cell_type": "code",
   "execution_count": 5,
   "metadata": {},
   "outputs": [
    {
     "name": "stdout",
     "output_type": "stream",
     "text": [
      "24.23345419113346\n"
     ]
    }
   ],
   "source": [
    "# Question 3: Find the sum of the values in s for every Wednesday\n",
    "\n",
    "print(s[dti.weekday == 2].sum()) "
   ]
  },
  {
   "cell_type": "code",
   "execution_count": 6,
   "metadata": {},
   "outputs": [
    {
     "data": {
      "text/plain": [
       "2015-01-31    0.566653\n",
       "2015-02-28    0.493436\n",
       "2015-03-31    0.508598\n",
       "2015-04-30    0.413776\n",
       "2015-05-31    0.476424\n",
       "2015-06-30    0.488768\n",
       "2015-07-31    0.541152\n",
       "2015-08-31    0.530638\n",
       "2015-09-30    0.512448\n",
       "2015-10-31    0.542632\n",
       "2015-11-30    0.410092\n",
       "2015-12-31    0.517146\n",
       "Freq: M, dtype: float64"
      ]
     },
     "execution_count": 6,
     "metadata": {},
     "output_type": "execute_result"
    }
   ],
   "source": [
    "# Question 4: Average For each calendar month\n",
    "\n",
    "s.resample('M').mean()\n"
   ]
  },
  {
   "cell_type": "code",
   "execution_count": 7,
   "metadata": {},
   "outputs": [
    {
     "name": "stdout",
     "output_type": "stream",
     "text": [
      "2015-01-31   2015-01-22\n",
      "2015-05-31   2015-04-28\n",
      "2015-09-30   2015-06-18\n",
      "2016-01-31   2015-12-08\n",
      "dtype: datetime64[ns]\n"
     ]
    }
   ],
   "source": [
    "# Question 5: For each group of four consecutive calendar months in s, find the date on which the highest\n",
    "# value occurred.\n",
    "\n",
    "print(s.groupby(pd.Grouper(freq='4M')).idxmax())\n"
   ]
  },
  {
   "cell_type": "code",
   "execution_count": null,
   "metadata": {},
   "outputs": [],
   "source": []
  }
 ],
 "metadata": {
  "kernelspec": {
   "display_name": "Python 3",
   "language": "python",
   "name": "python3"
  },
  "language_info": {
   "codemirror_mode": {
    "name": "ipython",
    "version": 3
   },
   "file_extension": ".py",
   "mimetype": "text/x-python",
   "name": "python",
   "nbconvert_exporter": "python",
   "pygments_lexer": "ipython3",
   "version": "3.6.5"
  }
 },
 "nbformat": 4,
 "nbformat_minor": 2
}
